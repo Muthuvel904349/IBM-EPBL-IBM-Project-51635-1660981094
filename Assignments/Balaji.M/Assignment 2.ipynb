
Assignment Date:20/10/22
Name:balaji
Roll No:611719106003
Maximum Marks: 2 Marks


import numpy as np 
import pandas as pd 
import matplotlib.pyplot as plt 
import seaborn as sns
from sklearn.preprocessing import scale
from sklearn.model_selection import train_test_split
1. Download the dataset
2. Load the dataset
data = pd.read_csv(r'C:\Users\Sureeth\Desktop\Churn_Modelling.csv')
data.head()
RowNumber	CustomerId	Surname	CreditScore	Geography	Gender	Age	Tenure	Balance	NumOfProducts	HasCrCard	IsActiveMember	EstimatedSalary	Exited
0	1	15634602	Hargrave	619	France	Female	42	2	0.00	1	1	1	101348.88	1
1	2	15647311	Hill	608	Spain	Female	41	1	83807.86	1	0	1	112542.58	0
2	3	15619304	Onio	502	France	Female	42	8	159660.80	3	1	0	113931.57	1
3	4	15701354	Boni	699	France	Female	39	1	0.00	2	0	0	93826.63	0
4	5	15737888	Mitchell	850	Spain	Female	43	2	125510.82	1	1	1	79084.10	0
3. Perform Below Visualizations.
● Univariate Analysis
sns.displot(data.CreditScore) 
<seaborn.axisgrid.FacetGrid at 0x2a22b8a0670>

sns.displot(data.Age)
<seaborn.axisgrid.FacetGrid at 0x2a2261a5160>

● Bi - Variate Analysis
sns.lineplot(x=data.NumOfProducts, y=data.HasCrCard)
<AxesSubplot:xlabel='NumOfProducts', ylabel='HasCrCard'>

sns.lineplot(x=data.Age, y=data.Tenure) 
<AxesSubplot:xlabel='Age', ylabel='Tenure'>

sns.lineplot(data=data,x='CreditScore',y='Balance')
<AxesSubplot:xlabel='CreditScore', ylabel='Balance'>

sns.scatterplot(data=data,x='Tenure',y='Balance')
<AxesSubplot:xlabel='Tenure', ylabel='Balance'>

plt.pie(data.HasCrCard.value_counts(),[0.2,0],labels=['YES','NO'],autopct="%1.1f%%",colors=['green','red'])
plt.title('HasCrCard')
Text(0.5, 1.0, 'HasCrCard')

sns.barplot(data=data,x=data.Geography.value_counts().index,y=data.Geography.value_counts())
<AxesSubplot:ylabel='Geography'>

sns.barplot(data=data,x=data.Gender.value_counts().index,y=data.Gender.value_counts()) 
<AxesSubplot:ylabel='Gender'>

● Multi - Variate Analysis
data.hist(figsize=(15,15)) 
array([[<AxesSubplot:title={'center':'RowNumber'}>,
        <AxesSubplot:title={'center':'CustomerId'}>,
        <AxesSubplot:title={'center':'CreditScore'}>],
       [<AxesSubplot:title={'center':'Age'}>,
        <AxesSubplot:title={'center':'Tenure'}>,
        <AxesSubplot:title={'center':'Balance'}>],
       [<AxesSubplot:title={'center':'NumOfProducts'}>,
        <AxesSubplot:title={'center':'HasCrCard'}>,
        <AxesSubplot:title={'center':'IsActiveMember'}>],
       [<AxesSubplot:title={'center':'EstimatedSalary'}>,
        <AxesSubplot:title={'center':'Exited'}>, <AxesSubplot:>]],
      dtype=object)

sns.pairplot(data)
<seaborn.axisgrid.PairGrid at 0x2a22d9c4d90>

plt.pie(data.Geography.value_counts(),[0,0.1,0.3],shadow=True,labels=['France','Germany','Spain'],autopct="%1.1f%%")
plt.title('Geography')
Text(0.5, 1.0, 'Geography')

4. Perform descriptive statistics on the dataset
data.describe()
RowNumber	CustomerId	CreditScore	Age	Tenure	Balance	NumOfProducts	HasCrCard	IsActiveMember	EstimatedSalary	Exited
count	10000.00000	1.000000e+04	10000.000000	10000.000000	10000.000000	10000.000000	10000.000000	10000.00000	10000.000000	10000.000000	10000.000000
mean	5000.50000	1.569094e+07	650.528800	38.921800	5.012800	76485.889288	1.530200	0.70550	0.515100	100090.239881	0.203700
std	2886.89568	7.193619e+04	96.653299	10.487806	2.892174	62397.405202	0.581654	0.45584	0.499797	57510.492818	0.402769
min	1.00000	1.556570e+07	350.000000	18.000000	0.000000	0.000000	1.000000	0.00000	0.000000	11.580000	0.000000
25%	2500.75000	1.562853e+07	584.000000	32.000000	3.000000	0.000000	1.000000	0.00000	0.000000	51002.110000	0.000000
50%	5000.50000	1.569074e+07	652.000000	37.000000	5.000000	97198.540000	1.000000	1.00000	1.000000	100193.915000	0.000000
75%	7500.25000	1.575323e+07	718.000000	44.000000	7.000000	127644.240000	2.000000	1.00000	1.000000	149388.247500	0.000000
max	10000.00000	1.581569e+07	850.000000	92.000000	10.000000	250898.090000	4.000000	1.00000	1.000000	199992.480000	1.000000
data.Geography.unique()
array(['France', 'Spain', 'Germany'], dtype=object)
data.Gender.value_counts()
Male      5457
Female    4543
Name: Gender, dtype: int64
data.Geography.value_counts()
France     5014
Germany    2509
Spain      2477
Name: Geography, dtype: int64
5. Handle the Missing values.
data.isnull()
RowNumber	CustomerId	Surname	CreditScore	Geography	Gender	Age	Tenure	Balance	NumOfProducts	HasCrCard	IsActiveMember	EstimatedSalary	Exited
0	False	False	False	False	False	False	False	False	False	False	False	False	False	False
1	False	False	False	False	False	False	False	False	False	False	False	False	False	False
2	False	False	False	False	False	False	False	False	False	False	False	False	False	False
3	False	False	False	False	False	False	False	False	False	False	False	False	False	False
4	False	False	False	False	False	False	False	False	False	False	False	False	False	False
...	...	...	...	...	...	...	...	...	...	...	...	...	...	...
9995	False	False	False	False	False	False	False	False	False	False	False	False	False	False
9996	False	False	False	False	False	False	False	False	False	False	False	False	False	False
9997	False	False	False	False	False	False	False	False	False	False	False	False	False	False
9998	False	False	False	False	False	False	False	False	False	False	False	False	False	False
9999	False	False	False	False	False	False	False	False	False	False	False	False	False	False
10000 rows × 14 columns

data.isnull().sum()
RowNumber          0
CustomerId         0
Surname            0
CreditScore        0
Geography          0
Gender             0
Age                0
Tenure             0
Balance            0
NumOfProducts      0
HasCrCard          0
IsActiveMember     0
EstimatedSalary    0
Exited             0
dtype: int64
data.isna().any()
RowNumber          False
CustomerId         False
Surname            False
CreditScore        False
Geography          False
Gender             False
Age                False
Tenure             False
Balance            False
NumOfProducts      False
HasCrCard          False
IsActiveMember     False
EstimatedSalary    False
Exited             False
dtype: bool
6. Find the outliers and replace the outliers
x = sns.boxplot(x=data["Age"])
x
<AxesSubplot:xlabel='Age'>

x = np.where(data['Age']>57,39,data['Age'])
sns.boxplot(x=x)
<AxesSubplot:>

7. Check for Categorical columns and perform encoding.
pd.Categorical(data["Geography"])
['France', 'Spain', 'France', 'France', 'Spain', ..., 'France', 'France', 'France', 'Germany', 'France']
Length: 10000
Categories (3, object): ['France', 'Germany', 'Spain']
pd.get_dummies(data["Geography"]).head(10)
France	Germany	Spain
0	1	0	0
1	0	0	1
2	1	0	0
3	1	0	0
4	0	0	1
5	0	0	1
6	1	0	0
7	0	1	0
8	1	0	0
9	1	0	0
pd.get_dummies(data).head(10)
RowNumber	CustomerId	CreditScore	Age	Tenure	Balance	NumOfProducts	HasCrCard	IsActiveMember	EstimatedSalary	...	Surname_Zubarev	Surname_Zubareva	Surname_Zuev	Surname_Zuyev	Surname_Zuyeva	Geography_France	Geography_Germany	Geography_Spain	Gender_Female	Gender_Male
0	1	15634602	619	42	2	0.00	1	1	1	101348.88	...	0	0	0	0	0	1	0	0	1	0
1	2	15647311	608	41	1	83807.86	1	0	1	112542.58	...	0	0	0	0	0	0	0	1	1	0
2	3	15619304	502	42	8	159660.80	3	1	0	113931.57	...	0	0	0	0	0	1	0	0	1	0
3	4	15701354	699	39	1	0.00	2	0	0	93826.63	...	0	0	0	0	0	1	0	0	1	0
4	5	15737888	850	43	2	125510.82	1	1	1	79084.10	...	0	0	0	0	0	0	0	1	1	0
5	6	15574012	645	44	8	113755.78	2	1	0	149756.71	...	0	0	0	0	0	0	0	1	0	1
6	7	15592531	822	50	7	0.00	2	1	1	10062.80	...	0	0	0	0	0	1	0	0	0	1
7	8	15656148	376	29	4	115046.74	4	1	0	119346.88	...	0	0	0	0	0	0	1	0	1	0
8	9	15792365	501	44	4	142051.07	2	0	1	74940.50	...	0	0	0	0	0	1	0	0	0	1
9	10	15592389	684	27	2	134603.88	1	1	1	71725.73	...	0	0	0	0	0	1	0	0	0	1
10 rows × 2948 columns

8. Split the data into dependent and independent variables.
X = data.iloc[:, :-1].values
X
array([[1, 15634602, 'Hargrave', ..., 1, 1, 101348.88],
       [2, 15647311, 'Hill', ..., 0, 1, 112542.58],
       [3, 15619304, 'Onio', ..., 1, 0, 113931.57],
       ...,
       [9998, 15584532, 'Liu', ..., 0, 1, 42085.58],
       [9999, 15682355, 'Sabbatini', ..., 1, 0, 92888.52],
       [10000, 15628319, 'Walker', ..., 1, 0, 38190.78]], dtype=object)
Y = data.iloc[:, -1].values
Y
array([1, 0, 1, ..., 1, 1, 0], dtype=int64)
9. Scale the independent variables
x = scale(data["EstimatedSalary"])
x
array([ 0.02188649,  0.21653375,  0.2406869 , ..., -1.00864308,
       -0.12523071, -1.07636976])
10. Split the data into training and testing
x = data.drop("EstimatedSalary", axis=1)
x
RowNumber	CustomerId	Surname	CreditScore	Geography	Gender	Age	Tenure	Balance	NumOfProducts	HasCrCard	IsActiveMember	Exited
0	1	15634602	Hargrave	619	France	Female	42	2	0.00	1	1	1	1
1	2	15647311	Hill	608	Spain	Female	41	1	83807.86	1	0	1	0
2	3	15619304	Onio	502	France	Female	42	8	159660.80	3	1	0	1
3	4	15701354	Boni	699	France	Female	39	1	0.00	2	0	0	0
4	5	15737888	Mitchell	850	Spain	Female	43	2	125510.82	1	1	1	0
...	...	...	...	...	...	...	...	...	...	...	...	...	...
9995	9996	15606229	Obijiaku	771	France	Male	39	5	0.00	2	1	0	0
9996	9997	15569892	Johnstone	516	France	Male	35	10	57369.61	1	1	1	0
9997	9998	15584532	Liu	709	France	Female	36	7	0.00	1	0	1	1
9998	9999	15682355	Sabbatini	772	Germany	Male	42	3	75075.31	2	1	0	1
9999	10000	15628319	Walker	792	France	Female	28	4	130142.79	1	1	0	0
10000 rows × 13 columns

y = data.EstimatedSalary
y
0       101348.88
1       112542.58
2       113931.57
3        93826.63
4        79084.10
          ...    
9995     96270.64
9996    101699.77
9997     42085.58
9998     92888.52
9999     38190.78
Name: EstimatedSalary, Length: 10000, dtype: float64
x_train,x_test,y_train,y_test=train_test_split(x,y,test_size=0.2)
print(x_train.shape, x_test.shape)
(8000, 13) (2000, 13)
 
